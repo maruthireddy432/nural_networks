{
 "cells": [
  {
   "cell_type": "code",
   "execution_count": 5,
   "metadata": {},
   "outputs": [],
   "source": [
    "import pandas as pd\n",
    "import matplotlib.pyplot as plt\n",
    "import string\n",
    "from wordcloud import wordcloud\n",
    "import spacy"
   ]
  },
  {
   "cell_type": "code",
   "execution_count": 6,
   "metadata": {},
   "outputs": [
    {
     "name": "stdout",
     "output_type": "stream",
     "text": [
      "Collecting en-core-web-sm==3.7.1\n",
      "  Downloading https://github.com/explosion/spacy-models/releases/download/en_core_web_sm-3.7.1/en_core_web_sm-3.7.1-py3-none-any.whl (12.8 MB)\n",
      "     ---------------------------------------- 0.0/12.8 MB ? eta -:--:--\n",
      "     ---------------------------------------- 0.0/12.8 MB ? eta -:--:--\n",
      "     ---------------------------------------- 0.0/12.8 MB 1.9 MB/s eta 0:00:07\n",
      "     --------------------------------------- 0.1/12.8 MB 563.7 kB/s eta 0:00:23\n",
      "     --------------------------------------- 0.1/12.8 MB 563.7 kB/s eta 0:00:23\n",
      "     --------------------------------------- 0.1/12.8 MB 656.4 kB/s eta 0:00:20\n",
      "     --------------------------------------- 0.1/12.8 MB 656.4 kB/s eta 0:00:20\n",
      "     --------------------------------------- 0.2/12.8 MB 510.2 kB/s eta 0:00:25\n",
      "      -------------------------------------- 0.2/12.8 MB 588.9 kB/s eta 0:00:22\n",
      "      -------------------------------------- 0.3/12.8 MB 684.6 kB/s eta 0:00:19\n",
      "     - ------------------------------------- 0.3/12.8 MB 832.3 kB/s eta 0:00:15\n",
      "     - ------------------------------------- 0.4/12.8 MB 911.8 kB/s eta 0:00:14\n",
      "     - ------------------------------------- 0.4/12.8 MB 911.8 kB/s eta 0:00:14\n",
      "     - ------------------------------------- 0.4/12.8 MB 911.8 kB/s eta 0:00:14\n",
      "     - ------------------------------------- 0.5/12.8 MB 761.8 kB/s eta 0:00:17\n",
      "     - ------------------------------------- 0.5/12.8 MB 761.8 kB/s eta 0:00:17\n",
      "     - ------------------------------------- 0.5/12.8 MB 701.0 kB/s eta 0:00:18\n",
      "     - ------------------------------------- 0.5/12.8 MB 701.0 kB/s eta 0:00:18\n",
      "     - ------------------------------------- 0.5/12.8 MB 701.0 kB/s eta 0:00:18\n",
      "     - ------------------------------------- 0.5/12.8 MB 701.0 kB/s eta 0:00:18\n",
      "     - ------------------------------------- 0.5/12.8 MB 701.0 kB/s eta 0:00:18\n",
      "     - ------------------------------------- 0.5/12.8 MB 576.4 kB/s eta 0:00:22\n",
      "     - ------------------------------------- 0.5/12.8 MB 576.4 kB/s eta 0:00:22\n",
      "     - ------------------------------------- 0.6/12.8 MB 562.0 kB/s eta 0:00:22\n",
      "     - ------------------------------------- 0.6/12.8 MB 562.0 kB/s eta 0:00:22\n",
      "     - ------------------------------------- 0.6/12.8 MB 549.1 kB/s eta 0:00:23\n",
      "     - ------------------------------------- 0.6/12.8 MB 564.3 kB/s eta 0:00:22\n",
      "     -- ------------------------------------ 0.7/12.8 MB 602.4 kB/s eta 0:00:21\n",
      "     -- ------------------------------------ 0.8/12.8 MB 638.4 kB/s eta 0:00:19\n",
      "     -- ------------------------------------ 0.8/12.8 MB 663.6 kB/s eta 0:00:19\n",
      "     -- ------------------------------------ 0.9/12.8 MB 702.7 kB/s eta 0:00:17\n",
      "     --- ----------------------------------- 1.0/12.8 MB 754.3 kB/s eta 0:00:16\n",
      "     --- ----------------------------------- 1.1/12.8 MB 787.7 kB/s eta 0:00:15\n",
      "     --- ----------------------------------- 1.2/12.8 MB 835.3 kB/s eta 0:00:14\n",
      "     --- ----------------------------------- 1.3/12.8 MB 885.3 kB/s eta 0:00:13\n",
      "     ---- ---------------------------------- 1.4/12.8 MB 905.1 kB/s eta 0:00:13\n",
      "     ---- ---------------------------------- 1.5/12.8 MB 950.0 kB/s eta 0:00:12\n",
      "     ---- ---------------------------------- 1.6/12.8 MB 995.7 kB/s eta 0:00:12\n",
      "     ----- ---------------------------------- 1.7/12.8 MB 1.0 MB/s eta 0:00:11\n",
      "     ----- ---------------------------------- 1.8/12.8 MB 1.1 MB/s eta 0:00:11\n",
      "     ------ --------------------------------- 1.9/12.8 MB 1.1 MB/s eta 0:00:10\n",
      "     ------ --------------------------------- 2.0/12.8 MB 1.1 MB/s eta 0:00:10\n",
      "     ------ --------------------------------- 2.2/12.8 MB 1.2 MB/s eta 0:00:09\n",
      "     ------- -------------------------------- 2.3/12.8 MB 1.2 MB/s eta 0:00:09\n",
      "     ------- -------------------------------- 2.4/12.8 MB 1.2 MB/s eta 0:00:09\n",
      "     ------- -------------------------------- 2.5/12.8 MB 1.3 MB/s eta 0:00:09\n",
      "     -------- ------------------------------- 2.6/12.8 MB 1.3 MB/s eta 0:00:08\n",
      "     -------- ------------------------------- 2.7/12.8 MB 1.3 MB/s eta 0:00:08\n",
      "     -------- ------------------------------- 2.8/12.8 MB 1.3 MB/s eta 0:00:08\n",
      "     --------- ------------------------------ 2.9/12.8 MB 1.4 MB/s eta 0:00:08\n",
      "     --------- ------------------------------ 3.0/12.8 MB 1.4 MB/s eta 0:00:08\n",
      "     --------- ------------------------------ 3.1/12.8 MB 1.4 MB/s eta 0:00:07\n",
      "     ---------- ----------------------------- 3.2/12.8 MB 1.4 MB/s eta 0:00:07\n",
      "     ---------- ----------------------------- 3.3/12.8 MB 1.4 MB/s eta 0:00:07\n",
      "     ---------- ----------------------------- 3.4/12.8 MB 1.5 MB/s eta 0:00:07\n",
      "     ---------- ----------------------------- 3.5/12.8 MB 1.5 MB/s eta 0:00:07\n",
      "     ----------- ---------------------------- 3.6/12.8 MB 1.5 MB/s eta 0:00:07\n",
      "     ----------- ---------------------------- 3.8/12.8 MB 1.5 MB/s eta 0:00:06\n",
      "     ------------ --------------------------- 3.9/12.8 MB 1.5 MB/s eta 0:00:06\n",
      "     ------------ --------------------------- 3.9/12.8 MB 1.5 MB/s eta 0:00:06\n",
      "     ------------ --------------------------- 4.1/12.8 MB 1.6 MB/s eta 0:00:06\n",
      "     ------------ --------------------------- 4.1/12.8 MB 1.6 MB/s eta 0:00:06\n",
      "     ------------- -------------------------- 4.3/12.8 MB 1.6 MB/s eta 0:00:06\n",
      "     ------------- -------------------------- 4.3/12.8 MB 1.6 MB/s eta 0:00:06\n",
      "     ------------- -------------------------- 4.4/12.8 MB 1.6 MB/s eta 0:00:06\n",
      "     -------------- ------------------------- 4.6/12.8 MB 1.6 MB/s eta 0:00:06\n",
      "     -------------- ------------------------- 4.7/12.8 MB 1.6 MB/s eta 0:00:05\n",
      "     -------------- ------------------------- 4.8/12.8 MB 1.7 MB/s eta 0:00:05\n",
      "     --------------- ------------------------ 4.9/12.8 MB 1.7 MB/s eta 0:00:05\n",
      "     --------------- ------------------------ 5.0/12.8 MB 1.7 MB/s eta 0:00:05\n",
      "     --------------- ------------------------ 5.1/12.8 MB 1.7 MB/s eta 0:00:05\n",
      "     ---------------- ----------------------- 5.2/12.8 MB 1.7 MB/s eta 0:00:05\n",
      "     ---------------- ----------------------- 5.3/12.8 MB 1.7 MB/s eta 0:00:05\n",
      "     ---------------- ----------------------- 5.4/12.8 MB 1.7 MB/s eta 0:00:05\n",
      "     ----------------- ---------------------- 5.5/12.8 MB 1.7 MB/s eta 0:00:05\n",
      "     ----------------- ---------------------- 5.6/12.8 MB 1.7 MB/s eta 0:00:05\n",
      "     ----------------- ---------------------- 5.7/12.8 MB 1.7 MB/s eta 0:00:05\n",
      "     ------------------ --------------------- 5.8/12.8 MB 1.7 MB/s eta 0:00:04\n",
      "     ------------------ --------------------- 5.9/12.8 MB 1.8 MB/s eta 0:00:04\n",
      "     ------------------ --------------------- 6.0/12.8 MB 1.8 MB/s eta 0:00:04\n",
      "     ------------------- -------------------- 6.1/12.8 MB 1.8 MB/s eta 0:00:04\n",
      "     ------------------- -------------------- 6.2/12.8 MB 1.8 MB/s eta 0:00:04\n",
      "     ------------------- -------------------- 6.3/12.8 MB 1.8 MB/s eta 0:00:04\n",
      "     -------------------- ------------------- 6.4/12.8 MB 1.8 MB/s eta 0:00:04\n",
      "     -------------------- ------------------- 6.5/12.8 MB 1.8 MB/s eta 0:00:04\n",
      "     -------------------- ------------------- 6.6/12.8 MB 1.8 MB/s eta 0:00:04\n",
      "     -------------------- ------------------- 6.7/12.8 MB 1.8 MB/s eta 0:00:04\n",
      "     --------------------- ------------------ 6.8/12.8 MB 1.8 MB/s eta 0:00:04\n",
      "     --------------------- ------------------ 6.9/12.8 MB 1.8 MB/s eta 0:00:04\n",
      "     --------------------- ------------------ 7.0/12.8 MB 1.8 MB/s eta 0:00:04\n",
      "     ---------------------- ----------------- 7.1/12.8 MB 1.8 MB/s eta 0:00:04\n",
      "     ---------------------- ----------------- 7.2/12.8 MB 1.9 MB/s eta 0:00:04\n",
      "     ---------------------- ----------------- 7.3/12.8 MB 1.9 MB/s eta 0:00:03\n",
      "     ----------------------- ---------------- 7.4/12.8 MB 1.9 MB/s eta 0:00:03\n",
      "     ----------------------- ---------------- 7.5/12.8 MB 1.9 MB/s eta 0:00:03\n",
      "     ----------------------- ---------------- 7.7/12.8 MB 1.9 MB/s eta 0:00:03\n",
      "     ------------------------ --------------- 7.8/12.8 MB 1.9 MB/s eta 0:00:03\n",
      "     ------------------------ --------------- 7.9/12.8 MB 1.9 MB/s eta 0:00:03\n",
      "     ------------------------ --------------- 7.9/12.8 MB 1.9 MB/s eta 0:00:03\n",
      "     ------------------------- -------------- 8.0/12.8 MB 1.9 MB/s eta 0:00:03\n",
      "     ------------------------- -------------- 8.2/12.8 MB 1.9 MB/s eta 0:00:03\n",
      "     ------------------------- -------------- 8.2/12.8 MB 1.9 MB/s eta 0:00:03\n",
      "     -------------------------- ------------- 8.3/12.8 MB 1.9 MB/s eta 0:00:03\n",
      "     -------------------------- ------------- 8.4/12.8 MB 1.9 MB/s eta 0:00:03\n",
      "     -------------------------- ------------- 8.5/12.8 MB 1.9 MB/s eta 0:00:03\n",
      "     --------------------------- ------------ 8.7/12.8 MB 1.9 MB/s eta 0:00:03\n",
      "     --------------------------- ------------ 8.8/12.8 MB 1.9 MB/s eta 0:00:03\n",
      "     --------------------------- ------------ 8.9/12.8 MB 1.9 MB/s eta 0:00:03\n",
      "     ---------------------------- ----------- 9.0/12.8 MB 1.9 MB/s eta 0:00:02\n",
      "     ---------------------------- ----------- 9.1/12.8 MB 1.9 MB/s eta 0:00:02\n",
      "     ---------------------------- ----------- 9.2/12.8 MB 2.0 MB/s eta 0:00:02\n",
      "     ---------------------------- ----------- 9.3/12.8 MB 2.0 MB/s eta 0:00:02\n",
      "     ----------------------------- ---------- 9.4/12.8 MB 2.0 MB/s eta 0:00:02\n",
      "     ----------------------------- ---------- 9.5/12.8 MB 2.0 MB/s eta 0:00:02\n",
      "     ----------------------------- ---------- 9.6/12.8 MB 2.0 MB/s eta 0:00:02\n",
      "     ------------------------------ --------- 9.7/12.8 MB 2.0 MB/s eta 0:00:02\n",
      "     ------------------------------ --------- 9.8/12.8 MB 2.0 MB/s eta 0:00:02\n",
      "     ------------------------------ --------- 9.9/12.8 MB 2.0 MB/s eta 0:00:02\n",
      "     ------------------------------- -------- 10.0/12.8 MB 2.0 MB/s eta 0:00:02\n",
      "     ------------------------------- -------- 10.1/12.8 MB 2.0 MB/s eta 0:00:02\n",
      "     ------------------------------- -------- 10.2/12.8 MB 2.0 MB/s eta 0:00:02\n",
      "     -------------------------------- ------- 10.3/12.8 MB 2.0 MB/s eta 0:00:02\n",
      "     -------------------------------- ------- 10.4/12.8 MB 2.1 MB/s eta 0:00:02\n",
      "     -------------------------------- ------- 10.4/12.8 MB 2.1 MB/s eta 0:00:02\n",
      "     -------------------------------- ------- 10.6/12.8 MB 2.1 MB/s eta 0:00:02\n",
      "     --------------------------------- ------ 10.6/12.8 MB 2.1 MB/s eta 0:00:02\n",
      "     --------------------------------- ------ 10.8/12.8 MB 2.3 MB/s eta 0:00:01\n",
      "     --------------------------------- ------ 10.9/12.8 MB 2.4 MB/s eta 0:00:01\n",
      "     ---------------------------------- ----- 10.9/12.8 MB 2.4 MB/s eta 0:00:01\n",
      "     ---------------------------------- ----- 11.0/12.8 MB 2.4 MB/s eta 0:00:01\n",
      "     ---------------------------------- ----- 11.2/12.8 MB 2.4 MB/s eta 0:00:01\n",
      "     ----------------------------------- ---- 11.3/12.8 MB 2.4 MB/s eta 0:00:01\n",
      "     ----------------------------------- ---- 11.4/12.8 MB 2.4 MB/s eta 0:00:01\n",
      "     ----------------------------------- ---- 11.5/12.8 MB 2.4 MB/s eta 0:00:01\n",
      "     ------------------------------------ --- 11.6/12.8 MB 2.4 MB/s eta 0:00:01\n",
      "     ------------------------------------ --- 11.7/12.8 MB 2.5 MB/s eta 0:00:01\n",
      "     ------------------------------------ --- 11.8/12.8 MB 2.5 MB/s eta 0:00:01\n",
      "     ------------------------------------- -- 11.9/12.8 MB 2.5 MB/s eta 0:00:01\n",
      "     ------------------------------------- -- 12.0/12.8 MB 2.4 MB/s eta 0:00:01\n",
      "     ------------------------------------- -- 12.1/12.8 MB 2.4 MB/s eta 0:00:01\n",
      "     -------------------------------------- - 12.2/12.8 MB 2.4 MB/s eta 0:00:01\n",
      "     -------------------------------------- - 12.3/12.8 MB 2.5 MB/s eta 0:00:01\n",
      "     -------------------------------------- - 12.4/12.8 MB 2.4 MB/s eta 0:00:01\n",
      "     ---------------------------------------  12.5/12.8 MB 2.4 MB/s eta 0:00:01\n",
      "     ---------------------------------------  12.6/12.8 MB 2.4 MB/s eta 0:00:01\n",
      "     ---------------------------------------  12.7/12.8 MB 2.4 MB/s eta 0:00:01\n",
      "     ---------------------------------------  12.8/12.8 MB 2.4 MB/s eta 0:00:01\n",
      "     ---------------------------------------  12.8/12.8 MB 2.4 MB/s eta 0:00:01\n",
      "     ---------------------------------------- 12.8/12.8 MB 2.4 MB/s eta 0:00:00\n",
      "Requirement already satisfied: spacy<3.8.0,>=3.7.2 in c:\\users\\marut\\appdata\\local\\programs\\python\\python312\\lib\\site-packages (from en-core-web-sm==3.7.1) (3.7.6)\n",
      "Requirement already satisfied: spacy-legacy<3.1.0,>=3.0.11 in c:\\users\\marut\\appdata\\local\\programs\\python\\python312\\lib\\site-packages (from spacy<3.8.0,>=3.7.2->en-core-web-sm==3.7.1) (3.0.12)\n",
      "Requirement already satisfied: spacy-loggers<2.0.0,>=1.0.0 in c:\\users\\marut\\appdata\\local\\programs\\python\\python312\\lib\\site-packages (from spacy<3.8.0,>=3.7.2->en-core-web-sm==3.7.1) (1.0.5)\n",
      "Requirement already satisfied: murmurhash<1.1.0,>=0.28.0 in c:\\users\\marut\\appdata\\local\\programs\\python\\python312\\lib\\site-packages (from spacy<3.8.0,>=3.7.2->en-core-web-sm==3.7.1) (1.0.10)\n",
      "Requirement already satisfied: cymem<2.1.0,>=2.0.2 in c:\\users\\marut\\appdata\\local\\programs\\python\\python312\\lib\\site-packages (from spacy<3.8.0,>=3.7.2->en-core-web-sm==3.7.1) (2.0.8)\n",
      "Requirement already satisfied: preshed<3.1.0,>=3.0.2 in c:\\users\\marut\\appdata\\local\\programs\\python\\python312\\lib\\site-packages (from spacy<3.8.0,>=3.7.2->en-core-web-sm==3.7.1) (3.0.9)\n",
      "Requirement already satisfied: thinc<8.3.0,>=8.2.2 in c:\\users\\marut\\appdata\\local\\programs\\python\\python312\\lib\\site-packages (from spacy<3.8.0,>=3.7.2->en-core-web-sm==3.7.1) (8.2.5)\n",
      "Requirement already satisfied: wasabi<1.2.0,>=0.9.1 in c:\\users\\marut\\appdata\\local\\programs\\python\\python312\\lib\\site-packages (from spacy<3.8.0,>=3.7.2->en-core-web-sm==3.7.1) (1.1.3)\n",
      "Requirement already satisfied: srsly<3.0.0,>=2.4.3 in c:\\users\\marut\\appdata\\local\\programs\\python\\python312\\lib\\site-packages (from spacy<3.8.0,>=3.7.2->en-core-web-sm==3.7.1) (2.4.8)\n",
      "Requirement already satisfied: catalogue<2.1.0,>=2.0.6 in c:\\users\\marut\\appdata\\local\\programs\\python\\python312\\lib\\site-packages (from spacy<3.8.0,>=3.7.2->en-core-web-sm==3.7.1) (2.0.10)\n",
      "Requirement already satisfied: weasel<0.5.0,>=0.1.0 in c:\\users\\marut\\appdata\\local\\programs\\python\\python312\\lib\\site-packages (from spacy<3.8.0,>=3.7.2->en-core-web-sm==3.7.1) (0.4.1)\n",
      "Requirement already satisfied: typer<1.0.0,>=0.3.0 in c:\\users\\marut\\appdata\\local\\programs\\python\\python312\\lib\\site-packages (from spacy<3.8.0,>=3.7.2->en-core-web-sm==3.7.1) (0.12.5)\n",
      "Requirement already satisfied: tqdm<5.0.0,>=4.38.0 in c:\\users\\marut\\appdata\\local\\programs\\python\\python312\\lib\\site-packages (from spacy<3.8.0,>=3.7.2->en-core-web-sm==3.7.1) (4.66.5)\n",
      "Requirement already satisfied: requests<3.0.0,>=2.13.0 in c:\\users\\marut\\appdata\\local\\programs\\python\\python312\\lib\\site-packages (from spacy<3.8.0,>=3.7.2->en-core-web-sm==3.7.1) (2.32.3)\n",
      "Requirement already satisfied: pydantic!=1.8,!=1.8.1,<3.0.0,>=1.7.4 in c:\\users\\marut\\appdata\\local\\programs\\python\\python312\\lib\\site-packages (from spacy<3.8.0,>=3.7.2->en-core-web-sm==3.7.1) (2.8.2)\n",
      "Requirement already satisfied: jinja2 in c:\\users\\marut\\appdata\\local\\programs\\python\\python312\\lib\\site-packages (from spacy<3.8.0,>=3.7.2->en-core-web-sm==3.7.1) (3.1.4)\n",
      "Requirement already satisfied: setuptools in c:\\users\\marut\\appdata\\local\\programs\\python\\python312\\lib\\site-packages (from spacy<3.8.0,>=3.7.2->en-core-web-sm==3.7.1) (72.1.0)\n",
      "Requirement already satisfied: packaging>=20.0 in c:\\users\\marut\\appdata\\roaming\\python\\python312\\site-packages (from spacy<3.8.0,>=3.7.2->en-core-web-sm==3.7.1) (24.0)\n",
      "Requirement already satisfied: langcodes<4.0.0,>=3.2.0 in c:\\users\\marut\\appdata\\local\\programs\\python\\python312\\lib\\site-packages (from spacy<3.8.0,>=3.7.2->en-core-web-sm==3.7.1) (3.4.0)\n",
      "Requirement already satisfied: numpy>=1.19.0 in c:\\users\\marut\\appdata\\local\\programs\\python\\python312\\lib\\site-packages (from spacy<3.8.0,>=3.7.2->en-core-web-sm==3.7.1) (1.26.4)\n",
      "Requirement already satisfied: language-data>=1.2 in c:\\users\\marut\\appdata\\local\\programs\\python\\python312\\lib\\site-packages (from langcodes<4.0.0,>=3.2.0->spacy<3.8.0,>=3.7.2->en-core-web-sm==3.7.1) (1.2.0)\n",
      "Requirement already satisfied: annotated-types>=0.4.0 in c:\\users\\marut\\appdata\\local\\programs\\python\\python312\\lib\\site-packages (from pydantic!=1.8,!=1.8.1,<3.0.0,>=1.7.4->spacy<3.8.0,>=3.7.2->en-core-web-sm==3.7.1) (0.7.0)\n",
      "Requirement already satisfied: pydantic-core==2.20.1 in c:\\users\\marut\\appdata\\local\\programs\\python\\python312\\lib\\site-packages (from pydantic!=1.8,!=1.8.1,<3.0.0,>=1.7.4->spacy<3.8.0,>=3.7.2->en-core-web-sm==3.7.1) (2.20.1)\n",
      "Requirement already satisfied: typing-extensions>=4.6.1 in c:\\users\\marut\\appdata\\local\\programs\\python\\python312\\lib\\site-packages (from pydantic!=1.8,!=1.8.1,<3.0.0,>=1.7.4->spacy<3.8.0,>=3.7.2->en-core-web-sm==3.7.1) (4.12.2)\n",
      "Requirement already satisfied: charset-normalizer<4,>=2 in c:\\users\\marut\\appdata\\local\\programs\\python\\python312\\lib\\site-packages (from requests<3.0.0,>=2.13.0->spacy<3.8.0,>=3.7.2->en-core-web-sm==3.7.1) (3.3.2)\n",
      "Requirement already satisfied: idna<4,>=2.5 in c:\\users\\marut\\appdata\\local\\programs\\python\\python312\\lib\\site-packages (from requests<3.0.0,>=2.13.0->spacy<3.8.0,>=3.7.2->en-core-web-sm==3.7.1) (3.7)\n",
      "Requirement already satisfied: urllib3<3,>=1.21.1 in c:\\users\\marut\\appdata\\local\\programs\\python\\python312\\lib\\site-packages (from requests<3.0.0,>=2.13.0->spacy<3.8.0,>=3.7.2->en-core-web-sm==3.7.1) (2.2.2)\n",
      "Requirement already satisfied: certifi>=2017.4.17 in c:\\users\\marut\\appdata\\local\\programs\\python\\python312\\lib\\site-packages (from requests<3.0.0,>=2.13.0->spacy<3.8.0,>=3.7.2->en-core-web-sm==3.7.1) (2024.6.2)\n",
      "Requirement already satisfied: blis<0.8.0,>=0.7.8 in c:\\users\\marut\\appdata\\local\\programs\\python\\python312\\lib\\site-packages (from thinc<8.3.0,>=8.2.2->spacy<3.8.0,>=3.7.2->en-core-web-sm==3.7.1) (0.7.11)\n",
      "Requirement already satisfied: confection<1.0.0,>=0.0.1 in c:\\users\\marut\\appdata\\local\\programs\\python\\python312\\lib\\site-packages (from thinc<8.3.0,>=8.2.2->spacy<3.8.0,>=3.7.2->en-core-web-sm==3.7.1) (0.1.5)\n",
      "Requirement already satisfied: colorama in c:\\users\\marut\\appdata\\roaming\\python\\python312\\site-packages (from tqdm<5.0.0,>=4.38.0->spacy<3.8.0,>=3.7.2->en-core-web-sm==3.7.1) (0.4.6)\n",
      "Requirement already satisfied: click>=8.0.0 in c:\\users\\marut\\appdata\\local\\programs\\python\\python312\\lib\\site-packages (from typer<1.0.0,>=0.3.0->spacy<3.8.0,>=3.7.2->en-core-web-sm==3.7.1) (8.1.7)\n",
      "Requirement already satisfied: shellingham>=1.3.0 in c:\\users\\marut\\appdata\\local\\programs\\python\\python312\\lib\\site-packages (from typer<1.0.0,>=0.3.0->spacy<3.8.0,>=3.7.2->en-core-web-sm==3.7.1) (1.5.4)\n",
      "Requirement already satisfied: rich>=10.11.0 in c:\\users\\marut\\appdata\\local\\programs\\python\\python312\\lib\\site-packages (from typer<1.0.0,>=0.3.0->spacy<3.8.0,>=3.7.2->en-core-web-sm==3.7.1) (13.7.1)\n",
      "Requirement already satisfied: cloudpathlib<1.0.0,>=0.7.0 in c:\\users\\marut\\appdata\\local\\programs\\python\\python312\\lib\\site-packages (from weasel<0.5.0,>=0.1.0->spacy<3.8.0,>=3.7.2->en-core-web-sm==3.7.1) (0.19.0)\n",
      "Requirement already satisfied: smart-open<8.0.0,>=5.2.1 in c:\\users\\marut\\appdata\\local\\programs\\python\\python312\\lib\\site-packages (from weasel<0.5.0,>=0.1.0->spacy<3.8.0,>=3.7.2->en-core-web-sm==3.7.1) (7.0.4)\n",
      "Requirement already satisfied: MarkupSafe>=2.0 in c:\\users\\marut\\appdata\\local\\programs\\python\\python312\\lib\\site-packages (from jinja2->spacy<3.8.0,>=3.7.2->en-core-web-sm==3.7.1) (2.1.5)\n",
      "Requirement already satisfied: marisa-trie>=0.7.7 in c:\\users\\marut\\appdata\\local\\programs\\python\\python312\\lib\\site-packages (from language-data>=1.2->langcodes<4.0.0,>=3.2.0->spacy<3.8.0,>=3.7.2->en-core-web-sm==3.7.1) (1.2.0)\n",
      "Requirement already satisfied: markdown-it-py>=2.2.0 in c:\\users\\marut\\appdata\\local\\programs\\python\\python312\\lib\\site-packages (from rich>=10.11.0->typer<1.0.0,>=0.3.0->spacy<3.8.0,>=3.7.2->en-core-web-sm==3.7.1) (3.0.0)\n",
      "Requirement already satisfied: pygments<3.0.0,>=2.13.0 in c:\\users\\marut\\appdata\\roaming\\python\\python312\\site-packages (from rich>=10.11.0->typer<1.0.0,>=0.3.0->spacy<3.8.0,>=3.7.2->en-core-web-sm==3.7.1) (2.18.0)\n",
      "Requirement already satisfied: wrapt in c:\\users\\marut\\appdata\\local\\programs\\python\\python312\\lib\\site-packages (from smart-open<8.0.0,>=5.2.1->weasel<0.5.0,>=0.1.0->spacy<3.8.0,>=3.7.2->en-core-web-sm==3.7.1) (1.16.0)\n",
      "Requirement already satisfied: mdurl~=0.1 in c:\\users\\marut\\appdata\\local\\programs\\python\\python312\\lib\\site-packages (from markdown-it-py>=2.2.0->rich>=10.11.0->typer<1.0.0,>=0.3.0->spacy<3.8.0,>=3.7.2->en-core-web-sm==3.7.1) (0.1.2)\n",
      "\u001b[38;5;2m✔ Download and installation successful\u001b[0m\n",
      "You can now load the package via spacy.load('en_core_web_sm')\n"
     ]
    },
    {
     "name": "stderr",
     "output_type": "stream",
     "text": [
      "\n",
      "[notice] A new release of pip is available: 24.1 -> 24.3.1\n",
      "[notice] To update, run: python.exe -m pip install --upgrade pip\n"
     ]
    }
   ],
   "source": [
    "!python -m spacy download en_core_web_sm"
   ]
  },
  {
   "cell_type": "code",
   "execution_count": 10,
   "metadata": {},
   "outputs": [
    {
     "data": {
      "text/html": [
       "<div>\n",
       "<style scoped>\n",
       "    .dataframe tbody tr th:only-of-type {\n",
       "        vertical-align: middle;\n",
       "    }\n",
       "\n",
       "    .dataframe tbody tr th {\n",
       "        vertical-align: top;\n",
       "    }\n",
       "\n",
       "    .dataframe thead th {\n",
       "        text-align: right;\n",
       "    }\n",
       "</style>\n",
       "<table border=\"1\" class=\"dataframe\">\n",
       "  <thead>\n",
       "    <tr style=\"text-align: right;\">\n",
       "      <th></th>\n",
       "      <th>Data</th>\n",
       "      <th>Labels</th>\n",
       "    </tr>\n",
       "  </thead>\n",
       "  <tbody>\n",
       "    <tr>\n",
       "      <th>0</th>\n",
       "      <td>Path: cantaloupe.srv.cs.cmu.edu!magnesium.club...</td>\n",
       "      <td>alt.atheism</td>\n",
       "    </tr>\n",
       "    <tr>\n",
       "      <th>1</th>\n",
       "      <td>Newsgroups: alt.atheism\\nPath: cantaloupe.srv....</td>\n",
       "      <td>alt.atheism</td>\n",
       "    </tr>\n",
       "    <tr>\n",
       "      <th>2</th>\n",
       "      <td>Path: cantaloupe.srv.cs.cmu.edu!das-news.harva...</td>\n",
       "      <td>alt.atheism</td>\n",
       "    </tr>\n",
       "    <tr>\n",
       "      <th>3</th>\n",
       "      <td>Path: cantaloupe.srv.cs.cmu.edu!magnesium.club...</td>\n",
       "      <td>alt.atheism</td>\n",
       "    </tr>\n",
       "    <tr>\n",
       "      <th>4</th>\n",
       "      <td>Xref: cantaloupe.srv.cs.cmu.edu alt.atheism:53...</td>\n",
       "      <td>alt.atheism</td>\n",
       "    </tr>\n",
       "    <tr>\n",
       "      <th>...</th>\n",
       "      <td>...</td>\n",
       "      <td>...</td>\n",
       "    </tr>\n",
       "    <tr>\n",
       "      <th>1995</th>\n",
       "      <td>Xref: cantaloupe.srv.cs.cmu.edu talk.abortion:...</td>\n",
       "      <td>talk.religion.misc</td>\n",
       "    </tr>\n",
       "    <tr>\n",
       "      <th>1996</th>\n",
       "      <td>Xref: cantaloupe.srv.cs.cmu.edu talk.religion....</td>\n",
       "      <td>talk.religion.misc</td>\n",
       "    </tr>\n",
       "    <tr>\n",
       "      <th>1997</th>\n",
       "      <td>Xref: cantaloupe.srv.cs.cmu.edu talk.origins:4...</td>\n",
       "      <td>talk.religion.misc</td>\n",
       "    </tr>\n",
       "    <tr>\n",
       "      <th>1998</th>\n",
       "      <td>Xref: cantaloupe.srv.cs.cmu.edu talk.religion....</td>\n",
       "      <td>talk.religion.misc</td>\n",
       "    </tr>\n",
       "    <tr>\n",
       "      <th>1999</th>\n",
       "      <td>Xref: cantaloupe.srv.cs.cmu.edu sci.skeptic:43...</td>\n",
       "      <td>talk.religion.misc</td>\n",
       "    </tr>\n",
       "  </tbody>\n",
       "</table>\n",
       "<p>2000 rows × 2 columns</p>\n",
       "</div>"
      ],
      "text/plain": [
       "                                                   Data              Labels\n",
       "0     Path: cantaloupe.srv.cs.cmu.edu!magnesium.club...         alt.atheism\n",
       "1     Newsgroups: alt.atheism\\nPath: cantaloupe.srv....         alt.atheism\n",
       "2     Path: cantaloupe.srv.cs.cmu.edu!das-news.harva...         alt.atheism\n",
       "3     Path: cantaloupe.srv.cs.cmu.edu!magnesium.club...         alt.atheism\n",
       "4     Xref: cantaloupe.srv.cs.cmu.edu alt.atheism:53...         alt.atheism\n",
       "...                                                 ...                 ...\n",
       "1995  Xref: cantaloupe.srv.cs.cmu.edu talk.abortion:...  talk.religion.misc\n",
       "1996  Xref: cantaloupe.srv.cs.cmu.edu talk.religion....  talk.religion.misc\n",
       "1997  Xref: cantaloupe.srv.cs.cmu.edu talk.origins:4...  talk.religion.misc\n",
       "1998  Xref: cantaloupe.srv.cs.cmu.edu talk.religion....  talk.religion.misc\n",
       "1999  Xref: cantaloupe.srv.cs.cmu.edu sci.skeptic:43...  talk.religion.misc\n",
       "\n",
       "[2000 rows x 2 columns]"
      ]
     },
     "execution_count": 10,
     "metadata": {},
     "output_type": "execute_result"
    }
   ],
   "source": [
    "blogs=pd.read_csv('blogs.csv')\n",
    "blogs"
   ]
  },
  {
   "cell_type": "code",
   "execution_count": 19,
   "metadata": {},
   "outputs": [
    {
     "data": {
      "text/plain": [
       "['Path: cantaloupe.srv.cs.cmu.edu!magnesium.club.cc.cmu.edu!news.sei.cmu.edu!cis.ohio-state.edu!zaphod.mps.ohio-state.edu!howland.reston.ans.net!agate!doc.ic.ac.uk!uknet!mcsun!Germany.EU.net!thoth.mchp.sni.de!horus.ap.mchp.sni.de!D012S658!frank\\nFrom: frank@D012S658.uucp (Frank O\\'Dwyer)\\nNewsgroups: alt.atheism\\nSubject: Re: islamic genocide\\nDate: 23 Apr 1993 23:51:47 GMT\\nOrganization: Siemens-Nixdorf AG\\nLines: 110\\nDistribution: world\\nMessage-ID: <1r9vej$5k5@horus.ap.mchp.sni.de>\\nReferences: <1r4o8a$6qe@fido.asd.sgi.com> <1r5ubl$bd6@horus.ap.mchp.sni.de> <1r76ek$7uo@fido.asd.sgi.com>\\nNNTP-Posting-Host: d012s658.ap.mchp.sni.de\\n\\nIn article <1r76ek$7uo@fido.asd.sgi.com> livesey@solntze.wpd.sgi.com (Jon Livesey) writes:\\n#In article <1r5ubl$bd6@horus.ap.mchp.sni.de>, frank@D012S658.uucp (Frank O\\'Dwyer) writes:\\n#|> In article <1r4o8a$6qe@fido.asd.sgi.com> livesey@solntze.wpd.sgi.com (Jon Livesey) writes:\\n#|> #\\n#|> #Noting that a particular society, in this case the mainland UK,\\n#|> #has few religously motivated murders, and few murders of *any*\\n#|> #kind, says very little about whether inter-religion murders elsewhere\\n#|> #are religiously motivated.\\n#|> \\n#|> No, but it allows one to conclude that there is nothing inherent\\n#|> in all religion (or for that matter, in catholicism and protestantism)\\n#|> that motivates one to kill.\\n#\\n#\"Motivates\" or \"allows?\"    The Christian Bible says that one may kill\\n#under certain circumstances.   In fact, it instructs one to kill under\\n#certain circumstances.     \\n\\nI\\'d say the majority of people have a moral system that instructs them\\nto kill under certain circumstances.  I do get your distinction between\\nmotivate and allow, and I do agree that if a flavour of theism \\'allows\\'\\natoricities, then that\\'s an indictment of that theism.  But it rather\\ndepends on what the \\'certain circumstances\\' are.  When you talk about\\nChristianity, or Islam, then at least your claims can be understood.\\nIt\\'s when people go to a general statement about theism that it falls\\napart.  One could believe in a God which instructs one to be utterly\\nharmless.\\n#\\n#|> For my part, I conclude that something\\n#|> else is required.  I also happen to believe that that something\\n#|> else will work no less well without religion - any easy Them/Us will\\n#|> do.\\n#\\n#And what does religion supply, if not an easy Them/Us?\\n\\nNot necessarily.  \"Love thy neighbour\" does not supply a them/us - it\\ndemolishes it.  And my definition of religion is broader than my\\ndefinition of theism, as I have explained.\\n#\\n#|> #By insisting that even the murder of four labourers, chosen because\\n#|> #they were catholics, and who had nothing to do with the IRA, by \\n#|> #Protestant extremists, is *not* religously motivated, I think what \\n#|> #you are saying is that you simply will not accept *any* murder as \\n#|> #being religiously motivated.\\n#|> \\n#|> No.  What about that guy who cut off someone\\'s head because he believed \\n#|> he was the devil incarnate?  That was religously motivated.\\n#\\n#What about the Protestant extremists who killed four Catholic \\n#labourers?     That *wasn\\'t* religiously motivated?\\n\\nNot in my opinion.  If they were doing it because of some obscure\\npoint of theology, then yes.  But since all protestants don\\'t do this\\n(nor do they elect extremists to do it for them), it\\'s just too broad\\ntoo say \"religion did this\".  I\\'m saying that the causes are far more\\ncomplex than that - take away the religious element, and you\\'d still\\nhave the powerful motives of revenge and misguided patriotism.  You\\nknow, when most Catholics and Protestants worldwide say \\'stop the \\nkilling\\', one might listen to that, especially when you claim not\\nto read minds.\\n#\\n#\\n#|> Also, the murders ensuing from the fatwa on Mr. Rushdie, the Inquisitions,\\n#|> and the many religous wars.\\n#\\n#What\\'s so special about these exceptions?    Isn\\'t this all just a\\n#grab-bag of ad-hoc excuses for not considering some other murders\\n#to be religiously motivated?    What\\'s the general principle behind\\n#all this?\\n\\nThe general principle is that it\\'s fairly clear (to me, at least) that\\nreligion is the primary motivator (enabler, whatever) of these.  It\\'s\\nnot nearly so obvious what\\'s going on when one looks at NI, apart\\nfrom violence of course.\\n#\\n#|> #It\\'s not an abstract \"argument\".   Northern Irish Protestants say\\n#|> #\"We don\\'t want to be absorbed into am officially Catholic country.\"\\n#|> #\\n#|> #Now what are we supposed to do?   Are we supposed to reply \"No,\\n#|> #that\\'s only what you think you don\\'t want.   Mr O\\'Dwyer assures us\\n#|> #that no matter what you say you want, you really want something \\n#|> #else?\"\\n#|> \\n#|> You think the Unionists wouldn\\'t mind being absorbed into a non-Catholic \\n#|> country (other than the UK of course)?   It\\'s a terrible thing to lose\\n#|> a mind.   Maybe the word \"country\" is there for more than just kicks.\\n#|> I certainly don\\'t believe that the Unionists are in it for God - I think\\n#|> they wish to maintain their position of privilege.\\n#\\n#I\\'m still listening to what they say, and you are still telling us \\n#your version of what they think.   You read minds, and I don\\'t.\\n\\nYou\\'ve speculated on my motives often enough, and you don\\'t take\\nmy statements of my own beliefs at face value - therefore your claim \\nnot to read minds has no credibility with me, sorry.   I also note that \\nyou fail to answer my question.  It just looks to me very much like\\nyou have an axe to grind - especially as you are indeed ignoring what \\nmost Protestants say - which is @stop the killing\".  The people you\\nrefer to are properly described as Unionists, not Protestants.\\n#\\n#As for their position of privilege, what is that if not religion-\\n#based?\\n\\nIt is based on politics, bigotry, and heartless extremism.  None of these\\nthings are synonymous with religion, though there is certainly some\\noverlap.\\n\\n\\n-- \\nFrank O\\'Dwyer                                  \\'I\\'m not hatching That\\'\\nodwyer@sse.ie                                  from \"Hens\",  by Evelyn Conlon\\n',\n",
       " 'Newsgroups: alt.atheism\\nPath: cantaloupe.srv.cs.cmu.edu!crabapple.srv.cs.cmu.edu!bb3.andrew.cmu.edu!news.sei.cmu.edu!cis.ohio-state.edu!zaphod.mps.ohio-state.edu!moe.ksu.ksu.edu!osuunx.ucc.okstate.edu!constellation!darkside!okcforum.osrhe.edu!bil\\nFrom: bil@okcforum.osrhe.edu (Bill Conner)\\nSubject: Re: Not the Omni!\\nMessage-ID: <C4vznz.JM4@darkside.osrhe.uoknor.edu>\\nSender: news@darkside.osrhe.uoknor.edu\\nNntp-Posting-Host: okcforum.osrhe.edu\\nOrganization: Okcforum Unix Users Group\\nX-Newsreader: TIN [version 1.1 PL6]\\nReferences: <65785@mimsy.umd.edu>\\nDate: Sat, 3 Apr 1993 02:45:35 GMT\\nLines: 18\\n\\nCharley Wingate (mangoe@cs.umd.edu) wrote:\\n: \\n: >> Please enlighten me.  How is omnipotence contradictory?\\n: \\n: >By definition, all that can occur in the universe is governed by the rules\\n: >of nature. Thus god cannot break them. Anything that god does must be allowed\\n: >in the rules somewhere. Therefore, omnipotence CANNOT exist! It contradicts\\n: >the rules of nature.\\n: \\n: Obviously, an omnipotent god can change the rules.\\n\\nWhen you say, \"By definition\", what exactly is being defined;\\ncertainly not omnipotence. You seem to be saying that the \"rules of\\nnature\" are pre-existant somehow, that they not only define nature but\\nactually cause it. If that\\'s what you mean I\\'d like to hear your\\nfurther thoughts on the question.\\n\\nBill\\n',\n",
       " 'Path: cantaloupe.srv.cs.cmu.edu!das-news.harvard.edu!noc.near.net!uunet!olivea!hal.com!decwrl!usenet.coe.montana.edu!news.u.washington.edu!carson.u.washington.edu!jimh\\nFrom: jimh@carson.u.washington.edu (James Hogan)\\nNewsgroups: alt.atheism\\nSubject: Re: Yet more Rushdie [Re: ISLAMIC LAW]\\nKeywords: slander calumny\\nMessage-ID: <1qnqlaINN4jg@shelley.u.washington.edu>\\nDate: 17 Apr 93 02:39:38 GMT\\nReferences: <1993Apr15.212943.15118@bnr.ca> <1993Apr16.171722.159590@zeus.calpoly.edu> <1993Apr16.222525.16024@bnr.ca>\\nOrganization: University of Washington, Seattle\\nLines: 60\\nNNTP-Posting-Host: carson.u.washington.edu\\n\\nIn article <1993Apr16.222525.16024@bnr.ca> (Rashid) writes:\\n>In article <1993Apr16.171722.159590@zeus.calpoly.edu>,\\n>jmunch@hertz.elee.calpoly.edu (John Munch) wrote:\\n>> \\n>> In article <1993Apr15.212943.15118@bnr.ca> (Rashid) writes:\\n>> >P.S. I\\'m not sure about this but I think the charge of \"shatim\" also\\n>> >applies to Rushdie and may be encompassed under the umbrella\\n>> >of the \"fasad\" ruling.\\n>> \\n>> Please define the words \"shatim\" and \"fasad\" before you use them again.\\n>\\n>My apologies. \"Shatim\", I believe, refers to slandering or spreading\\n>slander and lies about the Prophets(a.s) - any of the Prophets.\\n\\nBasically, any prophet I\\'ve ever dealt with has either been busy \\nhawking stolen merchandise or selling swampland house lots in \\nFlorida.  Then you hear all the stories of sexual abuse by prophets\\nand how the families of victims were paid to keep quiet about it.\\n\\n>It\\'s a kind of willful caulmny and \"cursing\" that\\'s indicated by the\\n>word. This is the best explanation I can come up with off the top\\n>of my head - I\\'ll try and look up a more technical definition when I\\n>have the time.\\n\\nNever mind that, but let me tell you about this Chevelle I bought \\nfrom this dude (you guessed it, a prophet) named Mohammed.  I\\'ve\\ngot the car for like two days when the tranny kicks, then Manny, \\nmy mechanic, tells me it was loaded with sawdust!  Take a guess\\nwhether \"Mohammed\" was anywhere to be found.  I don\\'t think so.\\n\\n>\\n>\"Fasad\" is a little more difficult to describe. Again, this is not\\n>a technical definition - I\\'ll try and get that later. Literally,\\n\\nOh, Mohammed!\\n\\n>the word \"fasad\" means mischief. But it\\'s a mischief on the order of\\n>magnitude indicated by the word \"corruption\". It\\'s when someone who\\n>is doing something wrong to begin with, seeks to escalate the hurt,\\n\\nYeah, you, Mohammed!\\n\\n>disorder, concern, harm etc. (the mischief) initially caused by their \\n>actions. The \"wrong\" is specifically related to attacks against\\n>\"God and His Messenger\" and mischief, corruption, disorder etc.\\n\\nYou slimy mass of pond scum!\\n\\n>resulting from that. The attack need not be a physical attack and there\\n>are different levels of penalty proscribed, depending on the extent\\n>of the mischief and whether the person or persons sought to \\n>\"make hay\" of the situation. The severest punishment is death.\\n\\nYeah, right!  You\\'re the one should be watching your butt.  You and\\nyour buddy Allah.  The stereo he sold me croaked after two days.\\nYour ass is grass!\\n\\nJim\\n\\nYeah, that\\'s right, Jim.\\n',\n",
       " 'Path: cantaloupe.srv.cs.cmu.edu!magnesium.club.cc.cmu.edu!news.sei.cmu.edu!fs7.ece.cmu.edu!europa.eng.gtefsd.com!howland.reston.ans.net!usc!venice!batman.bmd.trw.com!jbrown\\nFrom: jbrown@batman.bmd.trw.com\\nNewsgroups: alt.atheism\\nSubject: Re: Death Penalty / Gulf War (long)\\nMessage-ID: <1993Apr20.114137.883@batman.bmd.trw.com>\\nDate: 20 Apr 93 11:41:37 MST\\nReferences: <1993Apr13.060501.10561@leland.Stanford.EDU>  <930420.105805.0x8.rusnews.w165w@mantis.co.uk>\\nLines: 346\\n\\nIn article <930420.105805.0x8.rusnews.w165w@mantis.co.uk>, mathew <mathew@mantis.co.uk> writes:\\n> jbrown@batman.bmd.trw.com writes:\\n>>In article <930419.115707.6f2.rusnews.w165w@mantis.co.uk>, mathew\\n>><mathew@mantis.co.uk> writes:\\n>>> Which \"liberal news media\" are we talking about?\\n>> \\n>> Western news in general, but in particular the American \"mass media\":\\n>> CBS, NBC, ABC, etc.  The general tone of the news during the whole\\n>> war was one of \"those poor, poor Iraqis\" along with \"look how precisely\\n>> this cruise missile blew this building to bits\".\\n> \\n> Most odd.  Over here there was very little about the suffering of the Iraqi\\n> civilians until towards the end of the war; and then it was confined to the\\n> few remaining quality newspapers.\\n\\nTrue.  At first, the news media seemed entranced by all the new gizmos\\nthe military was using, not to mention the taped video transmissions from\\nthe missiles as they zeroed in on their targets.  But later, and especially\\nafter the bunker full of civilians was hit, they changed their tone.  It\\nseemed to me that they didn\\'t have the stomach for the reality of war,\\nthat innocent people really do die and are maimed in warfare.  It\\'s like\\nthey were only pro-Gulf-War as long as it was \"nice and clean\" (smart\\nmissiles dropping in on military HQs), but not when pictures of dead,\\ndying, and maimed civilians started cropping up.  What naive hypocrites!\\n\\n> \\n>>>> How about all the innocent people who died in blanket-bombing in WW2?\\n>>>> I don\\'t hear you bemoaning them!\\n\\n[ discussion about blanket-bombing and A-bombs deleted.]\\n>>> \\n>> All things considered, the fire-bombings and the atomic bomb were\\n>> essential (and therefore justified) in bringing the war to a quick\\n                            ^^^^^^^^^\\n>> end to avoid even greater allied losses.\\n\\nI should have said here \"militarily justified\".  It seems from your\\ncomments below that you understood this as meaning \"morally justified\".\\nI apologize.\\n\\n> \\n> What about the evidence that America knew Japan was about to surrender after\\n> Hiroshima but *before* Nagasaki?  Is that another lie peddled by the liberal\\n> media conspiracy?\\n\\nI have often wondered about this.  I\\'ve always thought that the first bomb\\nshould have been dropped on Japan\\'s island fortress of Truk.  A good,\\ninpenatrable military target.  The second bomb could\\'ve been held back\\nfor use on an industrial center if need be.  But I digress.\\n\\nYes, I have heard that we found evidence (after the war, BTW) that Japan\\nwas seriously considering surrender after the first bomb.  Unfortunately,\\nthe military junta won out over the moderates and rejected the US\\'s\\nulimatum.  Therefore the second bomb was dropped.  Most unfortunate, IMO.\\n\\n> \\n>> I, for one, don\\'t regret it.\\n> \\n> Nuke a Jap for Jesus!\\n> \\n\\nI don\\'t regret the fact that sometimes military decisions have to be made\\nwhich affect the lives of innocent people.  But I do regret the \\ncircumstances which make those decisions necessary, and I regret the\\nsuffering caused by those decisions.  \\n\\n[...]\\n\\n>>> Why all the fuss about Kuwait and not East Timor, Bosnia, or even Tibet?\\n>>> If Iraq is so bad, why were we still selling them stuff a couple of weeks\\n>>> before we started bombing?\\n>> \\n>> I make no claim or effort to justify the misguided foreign policy of the\\n>> West before the war.  It is evident that the West, especially America,\\n>> misjudged Hussein drastically.  But once Hussein invaded Kuwait and \\n>> threatened to militarily corner a significant portion of the world\\'s\\n>> oil supply, he had to be stopped.\\n> \\n> Oh, I see.  So we can overlook his using chemical weapons on thousands of\\n> people, but if he threatens your right to drive a huge gas-guzzling car,\\n> well, the man\\'s gotta go.\\n\\nActually, it was the fact that both situations existed that prompted US\\nand allied action.  If some back-water country took over some other\\nback-water country, we probably wouldn\\'t intervene.  Not that we don\\'t\\ncare, but we can\\'t be the world\\'s policman.  Or if a coup had occured\\nin Kuwait (instead of an invasion), then we still wouldn\\'t have acted\\nbecause there would not have been the imminent danger perceived to\\nSaudi Arabia.  But the combination of the two, an unprovoked invasion\\nby a genocidal tyrant AND the potential danger to the West\\'s oil \\ninterests, caused us to take action.\\n\\n> \\n> [ I\\'ve moved a paragraph from here to later on ]\\n> \\n\\n[...]\\n>> \\n>> If we hadn\\'t intervened, allowing Hussein to keep Kuwait, then it would\\n>> have been appeasement.\\n> \\n> Right.  But did you ever hear anyone advocate such a course of action?  Or\\n> are you just setting up a strawman?\\n> \\n\\nI\\'m not setting up a strawman at all.  If you want to argue against the\\nwar, then the only logical alternative was to allow Hussein to keep\\nKuwait.  Diplomatic alternatives, including sanctions, were ineffective.\\n\\n>>>>                                                           I guess we\\n>>>> shouldn\\'t have fought WW2 either -- just think of all those innocent\\n>>>> German civilians killed in Dresden and Hamburg.\\n>>> \\n>>> Yes, do.  Germans are human too, you know.\\n>> \\n>> Sure.  What was truly unfortunate was that they followed Hitler in\\n>> his grandiose quest for a \"Thousand Year Reich\".  The consequences\\n>> stemmed from that.\\n> \\n> Translation: \"They were asking for it\".\\n> \\nWell, in a sense, yes.  They probably had no idea of what end Hitler\\nwould lead their nation to.\\n\\n> But what about those who didn\\'t support Hitler\\'s dreams of conquest?  It\\'s\\n> not as if they democratically voted for all his policies.  The NSDAP got 43%\\n> in the elections of 1933, and that was the last chance the German people got\\n> to vote on the matter.\\n\\nThey suffered along with the rest.  Why does this bother you so much?\\nThe world is full of evil, and circumstances are not perfect.  Many\\ninnocents suffer due to the wrongful actions of others.  It it regretable,\\nbut that\\'s The-Way-It-Is.  There are no perfect solutions.\\n\\n[...]\\n>>> \\n>>> I look forward to hearing your incisive comments about East Timor and\\n>>> Tibet.\\n>>\\n>> What should I say about them?  Anything in particular?\\n> \\n> The people of East Timor are still being killed by a dictatorship that\\n> invaded their country.  Hell, even Western journalists have been killed.  All\\n> this was happening before the Gulf War.  Why didn\\'t we send in the bombers to\\n> East Timor?  Why aren\\'t we sending in the bombers NOW?\\n\\nProbably because we\\'re not the saviors of the world.  We can\\'t police each\\nand every country that decides to self-destruct or invade another.  Nor\\nare we in a strategic position to get relief to Tibet, East Timor, or\\nsome other places.\\n> \\n> [ Here\\'s that paragraph I moved ]\\n> \\n>>> What\\'s your intent?  To sound like a Loving Christian?  Well, you aren\\'t\\n>>> doing a very good job of it.\\n>> \\n>> Well, it\\'s not very \"loving\" to allow a Hussein or a Hitler to gobble up\\n>> nearby countries and keep them.  Or to allow them to continue with mass\\n>> slaughter of certain peoples under their dominion.  So, I\\'d have to\\n>> say yes, stopping Hussein was the most \"loving\" thing to do for the\\n>> most people involved once he set his mind on military conquest.\\n> \\n> The Chinese government has a policy of mandatory abortion and sterilization\\n> of Tibetans.  Tibetan people are rounded up, tortured, and executed.  Amnesty\\n> International recently reported that torture is still widespread in China.\\n> \\n> Why aren\\'t we stopping them?  In fact, why are we actively sucking up to them\\n> by trading freely with them?\\n\\nTell me how we could stop them and I\\'ll support it.  I, for one, do not\\nagree with the present US policy of \"sucking up to them\" as you put it.\\nI agree that it is deplorable.\\n\\n> \\n>>>> And as for poor, poor Rodney King!  Did you ever stop and think *why*\\n>>>> the jury in the first trial brought back a verdict of \"not guilty\"?\\n>>> \\n>>> Yes.  Amongst the things I thought were \"Hmm, there\\'s an awful lot of white\\n>>> people in that jury.\"\\n>> \\n>> So?  It was the *policemen* on trial not Rodney King!!\\n> \\n> Erm, surely it\\'s irrelevant who\\'s on trial?  Juries are supposed to represent\\n> a cross-section of the population.\\n\\nAre they?  Or are they supposed to reflect the population of the locale\\nwhere the trial is held?  (Normally this is where the crime is committed\\nunless one party or the other can convince the judge a change of venue\\nis in order.)  I\\'m not an expert on California law, or even US law, but\\nit seems that this is the way the system is set up.  You can criticize\\nthe system, but let\\'s not have unfounded allegations of racial \\nprejudice thrown around.\\n\\n> \\n>> And under American law they deserved a jury of *their* peers!\\n> \\n> You are saying that black people are not the peers of white people?\\n\\nNo, not at all.  The point is that the fact that there were no blacks\\non the first jury and that Rodney King is black is totally irrelevant.\\n\\n> \\n>> This point (of allegedly racial motivations) is really shallow.\\n> \\n> This idea of people only being tried before a jury of people just like them\\n> is really stupid.  Should the Nuremburg trials have had a jury entirely made\\n> up of Nazis?\\n\\nGermans, perhaps.  \"Peers\" doesn\\'t mean \"those who do the same thing\",\\nlike having murderers judge murderers.  It means \"having people from\\nthe same station in life\", presumably because they are in a better\\nposition to understand the defendent\\'s motivation(s).\\n\\n> \\n>>>> Those who have been foaming at the mouth for the blood of those\\n>>>> policemen certainly have looked no further than the video tape.\\n>>>> But the jury looked at *all* the evidence, evidence which you and I\\n>>>> have not seen.\\n>>> \\n>>> When I see a bunch of policemen beating someone who\\'s lying defenceless on\\n>>> the ground, it\\'s rather hard to imagine what this other evidence might have\\n>>> been.\\n>> \\n>> So?  It\\'s \"hard to imagine\"?  So when has Argument from Incredulity\\n>> gained acceptance from the revered author of \"Constructing a Logical\\n>> Argument\"?\\n> \\n> We\\'re not talking about a logical argument.  We\\'re talking about a court of\\n> law.  As the FAQ points out, some fallacious arguments are not viewed as\\n> fallacies in a court of law.\\n\\nOK, granted.  However, you are using this reasoning as part of *your*\\nlogical argument in this discussion.  This is not a court of law.\\n\\n> \\n>> If the facts as the news commentators presented them are true, then\\n>> I feel the \"not guilty\" verdict was a reasonable one.\\n> \\n> Were you not talking earlier about the bias of the liberal media conspiracy?\\n> \\nThe media is not totally monolithic.  Even though there is a prevailing\\nliberal bias, programs such as the MacNeil-Lehrer News Hour try to give\\na balanced and fair reporting of the news.  There are even conservative\\nsources out there if you know where to look.  (Hurrah for Rush!)\\n\\nBTW, I never used the word \"conspiracy\".  I don\\'t accept (without *far*\\nmore evidence) theories that there is some all-pervading liberal\\nconspiracy attempting to take over all news sources.\\n\\n>>> \"Thou shalt not kill... unless thou hast a pretty good reason for killing,\\n>>>  in which case thou shalt kill, and also kill anyone who gets in the way,\\n>>>  as unfortunately it cannot be helped.\"\\n>>>                                  -- Jim Brown Bible for Loving Christians\\n>> \\n>> Thanks mathew, I like the quote.  Pretty funny actually.  (I\\'m a \\n>> Monty Python fan, you know.  Kind of seems in that vein.)\\n>> \\n>> Of course, oversimplifying any moral argument can make it seem\\n>> contradictory.  But then, you know that already.\\n> \\n> Ha ha, only serious.\\n> \\n> I, an atheist, am arguing against killing innocent people.\\n> \\n> You, a supposed Christian, are arguing that it\\'s OK to kill innocent people\\n> so long as you get some guilty ones as well.\\n\\nHardly.  I didn\\'t say that it\\'s a Good Thing [tm] to kill innocent people\\nif the end is just.  Unfortunately, we don\\'t live in a perfect world and\\nthere are no perfect solutions.  If one is going to  resist tyranny, then\\ninnocent people on both sides are going to suffer and die.  I didn\\'t say\\nit is OK -- it is unfortunate, but sometimes necessary.\\n\\n> \\n> I, a moral relativist, am arguing that saturation bombing of German cities at\\n> the end of World War II was (as far as I can see) an evil and unnecessary act.\\n\\nI would agree that it was evil in the sense that it caused much pain\\nand suffering.  I\\'m not so sure that it was unnecessary as you say.  That\\nconclusion can only be arrived at by evaluating all the factors involved.\\nAnd perhaps it *was* unnecessary as (let\\'s say) we now know.  That doesn\\'t\\nmean that those who had to make the decision to bomb didn\\'t see it as\\nbeing necessary.  Rarely can one have full known of the consequences of\\nan action before making a decision.  At the time it may have seemed\\nnecessary enough to go ahead with it.\\n\\nBut don\\'t assume that I feel the bombing was *morally* justified -- I\\ndon\\'t!  I just don\\'t condemn those who had to make a difficult\\ndecision under difficult circumstances.\\n\\n> \\n> You, having criticised moral relativism in the past, are now arguing that I am\\n> in no position to judge the morality of allied actions at the end of the\\n> War.  \\n\\nYou certainly are not in such a position if you are a moral relativist.\\nI, as an absolutist, am in a position to judge, but I defer judgment.\\n\\n> You are arguing that the actions need to be assessed in the particular\\n> context of the time, and that they might have been moral then but not moral\\n> now.\\n\\nWrong.  They were neither moral then nor now.  They seemed necessary to\\nthose making the decisions to bring a quick end to the war.  I simply\\nrefuse to condemn them for their decision.\\n> \\n> Where\\'s your Christian love?  Where\\'s your absolute morality?  Oh, how quick\\n> you are to discard them when it suits you.  As Ivan Stang would say, \"Jesus\\n> would puke!\"\\n\\nOne day I will stand before Jesus and give account of every word and action;\\neven this discourse in this forum.  I understand the full ramifications of\\nthat, and I am prepared to do so.  I don\\'t believe that you can make the\\nsame claim.\\n\\n> \\n> mathew\\n\\nAnd BTW, the reason I brought up the blanket-bombing in Germany was\\nbecause you were bemoaning the Iraqi civilian casualties as being \\n\"so deplorable\".  Yet blanket bombing was instituted because bombing\\nwasn\\'t accurate enough to hit industrial/military targets in a\\ndecisive way by any other method at that time.  But in the Gulf War,\\nprecision bombing was the norm.  So the point was, why make a big\\nstink about the relatively few civilian casualties that resulted\\n*in spite of* precision bombing, when so many more civilians\\n(proportionately and quantitatively) died under the blanket bombing\\nin WW2?  Even with precision bombing, mistakes happen and some\\ncivilians suffer.  But less civilians suffered in this war than\\nany other iany other in history!  Many Iraqi civilians went about their lives\\nwith minimal interference from the allied air raids.  The stories\\nof \"hundreds of thousands\" of Iraqi civilian dead is just plain bunk.\\nYes, bunk.  The US lost 230,000 servicemen in WW2 over four years\\nand the majority of them were directly involved in fighting!  But \\nwe are expected to swallow that \"hundreds of thousands\" of \\n*civilian* Iraqis died in a war lasting about 2 months!  And with \\nthe Allies using the most precise bombs ever created at that!  \\nWhat hogwash.  If \"hundreds of thousands\" of Iraqi civilians died, \\nit was due to actions Hussein took on his own people, not due to \\nthe Allied bombing.\\n\\nRegards,\\n\\nJim B.\\n\\n\\n',\n",
       " \"Xref: cantaloupe.srv.cs.cmu.edu alt.atheism:53485 talk.religion.misc:83858 talk.origins:40979\\nNewsgroups: alt.atheism,talk.religion.misc,talk.origins\\nPath: cantaloupe.srv.cs.cmu.edu!magnesium.club.cc.cmu.edu!news.sei.cmu.edu!cis.ohio-state.edu!zaphod.mps.ohio-state.edu!rphroy!caen!uunet!pipex!uknet!warwick!nott-cs!mips.nott.ac.uk!eczcaw\\nFrom: eczcaw@mips.nott.ac.uk (C.Wainwright)\\nSubject: Re: Rawlins debunks creationism\\nMessage-ID: <1993Apr21.093808.1462@cs.nott.ac.uk>\\nSender: news@cs.nott.ac.uk\\nReply-To: eczcaw@mips.nott.ac.uk (C.Wainwright)\\nOrganization: Nottingham University\\nReferences: <1r15rvINNh8p@ctron-news.ctron.com> <30147@ursa.bear.com> <C5snCL.J8o@usenet.ucs.indiana.edu> <30151@ursa.bear.com>\\nDate: Wed, 21 Apr 93 09:38:08 GMT\\nLines: 51\\n\\nIn article <30151@ursa.bear.com>, halat@pooh.bears (Jim Halat) writes:\\n|> In article <C5snCL.J8o@usenet.ucs.indiana.edu>, adpeters@sunflower.bio.indiana.edu (Andy Peters) writes:\\n|> \\n|> >Evolution, as I have said before, is theory _and_ fact.  It is exactly\\n|> >the same amount of each as the existence of atoms and the existence of\\n|> >gravity.  If you accept the existence of atoms and gravity as fact,\\n|> >then you should also accept the existence of evolution as fact.\\n|> >\\n|> >-- \\n|> >--Andy\\n|> \\n|> I don't accept atoms or gravity as fact either.  They are extremely useful\\n|> mathematical models to describe physical observations we can make.\\n|> Other posters have aptly explained the atomic model.  Gravity, too, is\\n|> very much a theory; no gravity waves have even been detected, but we\\n|> have a very useful model that describes much of the behavior on\\n|> objects by this thing we _call_ gravity.  Gravity, however, is _not_ \\n|> a fact.  It is a theoretical model used to talk about how objects \\n|> behave in our physical environment.  Newton thought gravity was a\\n|> simple vector force; Einstein a wave. Both are very useful models that \\n|> have no religious overtones or requirements of faith, unless of course you \\n|> want to demand that it is a factual physical entity described exactly \\n|> the way the theory now formulated talks about it.  That takes a great \\n|> leap of faith, which, of course, is what religion takes.  Evolution\\n|> is no different.\\n|> \\n|> -- \\n|>  jim halat         halat@bear.com     \\n|> bear-stearns       --whatever doesn't kill you will only serve to annoy you--\\n|>    nyc             i speak only for myself\\n|> \\n|> \\n|> \\n|> \\n\\n\\nPerhaps the major difference here is that we notice something, which we call\\ngravity, and then do some modelling around it.  I myself do not notice any\\ndeity.  Hence a model cannot be made.  A deity is an abstract, and hence\\nreligion may be considered a model of an abstract.\\n\\nBesides, we can always change the model of gravity if the one we have doesn't\\nwork too well.  Can you imagine this with the bible?  Erm, excuse me, I bought\\nthis about 1500 years ago and it doesn't seem quite right...can I have an\\nimproved model please?!\\n-- \\n+-------------------------+-----------------------------------------------+\\n|  Adda Wainwright        |    Does dim atal y llanw!         8o)         |\\n|  eczcaw@mips.nott.ac.uk |   8o)        Mae .sig 'ma ar werth!           |\\n+-------------------------+-----------------------------------------------+\\n\\n\"]"
      ]
     },
     "execution_count": 19,
     "metadata": {},
     "output_type": "execute_result"
    }
   ],
   "source": [
    "data=[x.strip() for x in blogs.Data ]\n",
    "data=[x for x in blogs.Data if x]\n",
    "data[0:5]"
   ]
  },
  {
   "cell_type": "code",
   "execution_count": 24,
   "metadata": {},
   "outputs": [
    {
     "data": {
      "text/plain": [
       "\"Path: cantaloupe.srv.cs.cmu.edu!magnesium.club.cc.cmu.edu!news.sei.cmu.edu!cis.ohio-state.edu!zaphod.mps.ohio-state.edu!howland.reston.ans.net!agate!doc.ic.ac.uk!uknet!mcsun!Germany.EU.net!thoth.mchp.sni.de!horus.ap.mchp.sni.de!D012S658!frank\\nFrom: frank@D012S658.uucp (Frank O'Dwyer)\\nNewsgroups: alt.atheism\\nSubject: Re: islamic genocide\\nDate: 23 Apr 1993 23:51:47 GMT\\nOrganization: Siemens-Nixdorf AG\\nLines: 110\\nDistribution: world\\nMessage-ID: <1r9vej$5k5@horus.ap.mchp.sni.de>\\nReferences: <1r4o8a$6qe@fido.asd.sgi.com> <1r5ubl$bd6@horus.ap.mchp.sni.de> <1r76ek$7uo@fido.asd.sgi.com>\\nNNTP-Posting-Host: d012s658.ap.mchp.sni.de\\n\\nIn article <1r76ek$7uo@fido.asd.sgi.com> livesey@solntze.wpd.sgi.com (Jon Livesey) writes:\\n#In article <1r5ubl$bd6@horus.ap.mchp.sni.de>, frank@D012S658.uucp (Frank O'Dwyer) writes:\\n#|> In article <1r4o8a$6qe@fido.asd.sgi.com> livesey@solntze.wpd.sgi.com (Jon Livesey) writes:\\n#|> #\\n#|> #Noting that a particular society, in this case the mainland UK,\\n#|> #has few relig\""
      ]
     },
     "execution_count": 24,
     "metadata": {},
     "output_type": "execute_result"
    }
   ],
   "source": [
    "text_data=\"\".join(data)\n",
    "text_data[:1000]"
   ]
  },
  {
   "cell_type": "code",
   "execution_count": 25,
   "metadata": {},
   "outputs": [
    {
     "data": {
      "text/plain": [
       "'Path cantaloupesrvcscmuedumagnesiumclubcccmuedunewsseicmueducisohiostateeduzaphodmpsohiostateeduhowlandrestonansnetagatedocicacukuknetmcsunGermanyEUnetthothmchpsnidehorusapmchpsnideD012S658frank\\nFrom frankD012S658uucp Frank ODwyer\\nNewsgroups altatheism\\nSubject Re islamic genocide\\nDate 23 Apr 1993 235147 GMT\\nOrganization SiemensNixdorf AG\\nLines 110\\nDistribution world\\nMessageID 1r9vej5k5horusapmchpsnide\\nReferences 1r4o8a6qefidoasdsgicom 1r5ublbd6horusapmchpsnide 1r76ek7uofidoasdsgicom\\nNNTPPostingHost d012s658apmchpsnide\\n\\nIn article 1r76ek7uofidoasdsgicom liveseysolntzewpdsgicom Jon Livesey writes\\nIn article 1r5ublbd6horusapmchpsnide frankD012S658uucp Frank ODwyer writes\\n In article 1r4o8a6qefidoasdsgicom liveseysolntzewpdsgicom Jon Livesey writes\\n \\n Noting that a particular society in this case the mainland UK\\n has few religously motivated murders and few murders of any\\n kind says very little about whether interreligion murders elsewhere\\n are religiously motivated\\n \\n No but it allows one'"
      ]
     },
     "execution_count": 25,
     "metadata": {},
     "output_type": "execute_result"
    }
   ],
   "source": [
    "no_pun_text=text_data.translate(str.maketrans('','',string.punctuation))\n",
    "no_pun_text[:1000]"
   ]
  },
  {
   "cell_type": "code",
   "execution_count": 26,
   "metadata": {},
   "outputs": [
    {
     "name": "stderr",
     "output_type": "stream",
     "text": [
      "[nltk_data] Downloading package punkt to\n",
      "[nltk_data]     C:\\Users\\marut\\AppData\\Roaming\\nltk_data...\n",
      "[nltk_data]   Package punkt is already up-to-date!\n"
     ]
    },
    {
     "data": {
      "text/plain": [
       "True"
      ]
     },
     "execution_count": 26,
     "metadata": {},
     "output_type": "execute_result"
    }
   ],
   "source": [
    "#Stopwords\n",
    "import nltk\n",
    "from nltk.corpus import stopwords\n",
    "nltk.download('punkt')"
   ]
  },
  {
   "cell_type": "code",
   "execution_count": 27,
   "metadata": {},
   "outputs": [
    {
     "ename": "LookupError",
     "evalue": "\n**********************************************************************\n  Resource \u001b[93mpunkt_tab\u001b[0m not found.\n  Please use the NLTK Downloader to obtain the resource:\n\n  \u001b[31m>>> import nltk\n  >>> nltk.download('punkt_tab')\n  \u001b[0m\n  For more information see: https://www.nltk.org/data.html\n\n  Attempted to load \u001b[93mtokenizers/punkt_tab/english/\u001b[0m\n\n  Searched in:\n    - 'C:\\\\Users\\\\marut/nltk_data'\n    - 'c:\\\\Users\\\\marut\\\\AppData\\\\Local\\\\Programs\\\\Python\\\\Python312\\\\nltk_data'\n    - 'c:\\\\Users\\\\marut\\\\AppData\\\\Local\\\\Programs\\\\Python\\\\Python312\\\\share\\\\nltk_data'\n    - 'c:\\\\Users\\\\marut\\\\AppData\\\\Local\\\\Programs\\\\Python\\\\Python312\\\\lib\\\\nltk_data'\n    - 'C:\\\\Users\\\\marut\\\\AppData\\\\Roaming\\\\nltk_data'\n    - 'C:\\\\nltk_data'\n    - 'D:\\\\nltk_data'\n    - 'E:\\\\nltk_data'\n**********************************************************************\n",
     "output_type": "error",
     "traceback": [
      "\u001b[1;31m---------------------------------------------------------------------------\u001b[0m",
      "\u001b[1;31mLookupError\u001b[0m                               Traceback (most recent call last)",
      "Cell \u001b[1;32mIn[27], line 3\u001b[0m\n\u001b[0;32m      1\u001b[0m \u001b[38;5;66;03m#Tokenization\u001b[39;00m\n\u001b[0;32m      2\u001b[0m \u001b[38;5;28;01mfrom\u001b[39;00m \u001b[38;5;21;01mnltk\u001b[39;00m\u001b[38;5;21;01m.\u001b[39;00m\u001b[38;5;21;01mtokenize\u001b[39;00m \u001b[38;5;28;01mimport\u001b[39;00m word_tokenize  \n\u001b[1;32m----> 3\u001b[0m text_tokens \u001b[38;5;241m=\u001b[39m \u001b[43mword_tokenize\u001b[49m\u001b[43m(\u001b[49m\u001b[43mno_pun_text\u001b[49m\u001b[43m)\u001b[49m\n\u001b[0;32m      4\u001b[0m \u001b[38;5;28mprint\u001b[39m(text_tokens[\u001b[38;5;241m0\u001b[39m:\u001b[38;5;241m50\u001b[39m])\n",
      "File \u001b[1;32mc:\\Users\\marut\\AppData\\Local\\Programs\\Python\\Python312\\Lib\\site-packages\\nltk\\tokenize\\__init__.py:142\u001b[0m, in \u001b[0;36mword_tokenize\u001b[1;34m(text, language, preserve_line)\u001b[0m\n\u001b[0;32m    127\u001b[0m \u001b[38;5;28;01mdef\u001b[39;00m \u001b[38;5;21mword_tokenize\u001b[39m(text, language\u001b[38;5;241m=\u001b[39m\u001b[38;5;124m\"\u001b[39m\u001b[38;5;124menglish\u001b[39m\u001b[38;5;124m\"\u001b[39m, preserve_line\u001b[38;5;241m=\u001b[39m\u001b[38;5;28;01mFalse\u001b[39;00m):\n\u001b[0;32m    128\u001b[0m \u001b[38;5;250m    \u001b[39m\u001b[38;5;124;03m\"\"\"\u001b[39;00m\n\u001b[0;32m    129\u001b[0m \u001b[38;5;124;03m    Return a tokenized copy of *text*,\u001b[39;00m\n\u001b[0;32m    130\u001b[0m \u001b[38;5;124;03m    using NLTK's recommended word tokenizer\u001b[39;00m\n\u001b[1;32m   (...)\u001b[0m\n\u001b[0;32m    140\u001b[0m \u001b[38;5;124;03m    :type preserve_line: bool\u001b[39;00m\n\u001b[0;32m    141\u001b[0m \u001b[38;5;124;03m    \"\"\"\u001b[39;00m\n\u001b[1;32m--> 142\u001b[0m     sentences \u001b[38;5;241m=\u001b[39m [text] \u001b[38;5;28;01mif\u001b[39;00m preserve_line \u001b[38;5;28;01melse\u001b[39;00m \u001b[43msent_tokenize\u001b[49m\u001b[43m(\u001b[49m\u001b[43mtext\u001b[49m\u001b[43m,\u001b[49m\u001b[43m \u001b[49m\u001b[43mlanguage\u001b[49m\u001b[43m)\u001b[49m\n\u001b[0;32m    143\u001b[0m     \u001b[38;5;28;01mreturn\u001b[39;00m [\n\u001b[0;32m    144\u001b[0m         token \u001b[38;5;28;01mfor\u001b[39;00m sent \u001b[38;5;129;01min\u001b[39;00m sentences \u001b[38;5;28;01mfor\u001b[39;00m token \u001b[38;5;129;01min\u001b[39;00m _treebank_word_tokenizer\u001b[38;5;241m.\u001b[39mtokenize(sent)\n\u001b[0;32m    145\u001b[0m     ]\n",
      "File \u001b[1;32mc:\\Users\\marut\\AppData\\Local\\Programs\\Python\\Python312\\Lib\\site-packages\\nltk\\tokenize\\__init__.py:119\u001b[0m, in \u001b[0;36msent_tokenize\u001b[1;34m(text, language)\u001b[0m\n\u001b[0;32m    109\u001b[0m \u001b[38;5;28;01mdef\u001b[39;00m \u001b[38;5;21msent_tokenize\u001b[39m(text, language\u001b[38;5;241m=\u001b[39m\u001b[38;5;124m\"\u001b[39m\u001b[38;5;124menglish\u001b[39m\u001b[38;5;124m\"\u001b[39m):\n\u001b[0;32m    110\u001b[0m \u001b[38;5;250m    \u001b[39m\u001b[38;5;124;03m\"\"\"\u001b[39;00m\n\u001b[0;32m    111\u001b[0m \u001b[38;5;124;03m    Return a sentence-tokenized copy of *text*,\u001b[39;00m\n\u001b[0;32m    112\u001b[0m \u001b[38;5;124;03m    using NLTK's recommended sentence tokenizer\u001b[39;00m\n\u001b[1;32m   (...)\u001b[0m\n\u001b[0;32m    117\u001b[0m \u001b[38;5;124;03m    :param language: the model name in the Punkt corpus\u001b[39;00m\n\u001b[0;32m    118\u001b[0m \u001b[38;5;124;03m    \"\"\"\u001b[39;00m\n\u001b[1;32m--> 119\u001b[0m     tokenizer \u001b[38;5;241m=\u001b[39m \u001b[43m_get_punkt_tokenizer\u001b[49m\u001b[43m(\u001b[49m\u001b[43mlanguage\u001b[49m\u001b[43m)\u001b[49m\n\u001b[0;32m    120\u001b[0m     \u001b[38;5;28;01mreturn\u001b[39;00m tokenizer\u001b[38;5;241m.\u001b[39mtokenize(text)\n",
      "File \u001b[1;32mc:\\Users\\marut\\AppData\\Local\\Programs\\Python\\Python312\\Lib\\site-packages\\nltk\\tokenize\\__init__.py:105\u001b[0m, in \u001b[0;36m_get_punkt_tokenizer\u001b[1;34m(language)\u001b[0m\n\u001b[0;32m     96\u001b[0m \u001b[38;5;129m@functools\u001b[39m\u001b[38;5;241m.\u001b[39mlru_cache\n\u001b[0;32m     97\u001b[0m \u001b[38;5;28;01mdef\u001b[39;00m \u001b[38;5;21m_get_punkt_tokenizer\u001b[39m(language\u001b[38;5;241m=\u001b[39m\u001b[38;5;124m\"\u001b[39m\u001b[38;5;124menglish\u001b[39m\u001b[38;5;124m\"\u001b[39m):\n\u001b[0;32m     98\u001b[0m \u001b[38;5;250m    \u001b[39m\u001b[38;5;124;03m\"\"\"\u001b[39;00m\n\u001b[0;32m     99\u001b[0m \u001b[38;5;124;03m    A constructor for the PunktTokenizer that utilizes\u001b[39;00m\n\u001b[0;32m    100\u001b[0m \u001b[38;5;124;03m    a lru cache for performance.\u001b[39;00m\n\u001b[1;32m   (...)\u001b[0m\n\u001b[0;32m    103\u001b[0m \u001b[38;5;124;03m    :type language: str\u001b[39;00m\n\u001b[0;32m    104\u001b[0m \u001b[38;5;124;03m    \"\"\"\u001b[39;00m\n\u001b[1;32m--> 105\u001b[0m     \u001b[38;5;28;01mreturn\u001b[39;00m \u001b[43mPunktTokenizer\u001b[49m\u001b[43m(\u001b[49m\u001b[43mlanguage\u001b[49m\u001b[43m)\u001b[49m\n",
      "File \u001b[1;32mc:\\Users\\marut\\AppData\\Local\\Programs\\Python\\Python312\\Lib\\site-packages\\nltk\\tokenize\\punkt.py:1744\u001b[0m, in \u001b[0;36mPunktTokenizer.__init__\u001b[1;34m(self, lang)\u001b[0m\n\u001b[0;32m   1742\u001b[0m \u001b[38;5;28;01mdef\u001b[39;00m \u001b[38;5;21m__init__\u001b[39m(\u001b[38;5;28mself\u001b[39m, lang\u001b[38;5;241m=\u001b[39m\u001b[38;5;124m\"\u001b[39m\u001b[38;5;124menglish\u001b[39m\u001b[38;5;124m\"\u001b[39m):\n\u001b[0;32m   1743\u001b[0m     PunktSentenceTokenizer\u001b[38;5;241m.\u001b[39m\u001b[38;5;21m__init__\u001b[39m(\u001b[38;5;28mself\u001b[39m)\n\u001b[1;32m-> 1744\u001b[0m     \u001b[38;5;28;43mself\u001b[39;49m\u001b[38;5;241;43m.\u001b[39;49m\u001b[43mload_lang\u001b[49m\u001b[43m(\u001b[49m\u001b[43mlang\u001b[49m\u001b[43m)\u001b[49m\n",
      "File \u001b[1;32mc:\\Users\\marut\\AppData\\Local\\Programs\\Python\\Python312\\Lib\\site-packages\\nltk\\tokenize\\punkt.py:1749\u001b[0m, in \u001b[0;36mPunktTokenizer.load_lang\u001b[1;34m(self, lang)\u001b[0m\n\u001b[0;32m   1746\u001b[0m \u001b[38;5;28;01mdef\u001b[39;00m \u001b[38;5;21mload_lang\u001b[39m(\u001b[38;5;28mself\u001b[39m, lang\u001b[38;5;241m=\u001b[39m\u001b[38;5;124m\"\u001b[39m\u001b[38;5;124menglish\u001b[39m\u001b[38;5;124m\"\u001b[39m):\n\u001b[0;32m   1747\u001b[0m     \u001b[38;5;28;01mfrom\u001b[39;00m \u001b[38;5;21;01mnltk\u001b[39;00m\u001b[38;5;21;01m.\u001b[39;00m\u001b[38;5;21;01mdata\u001b[39;00m \u001b[38;5;28;01mimport\u001b[39;00m find\n\u001b[1;32m-> 1749\u001b[0m     lang_dir \u001b[38;5;241m=\u001b[39m \u001b[43mfind\u001b[49m\u001b[43m(\u001b[49m\u001b[38;5;124;43mf\u001b[39;49m\u001b[38;5;124;43m\"\u001b[39;49m\u001b[38;5;124;43mtokenizers/punkt_tab/\u001b[39;49m\u001b[38;5;132;43;01m{\u001b[39;49;00m\u001b[43mlang\u001b[49m\u001b[38;5;132;43;01m}\u001b[39;49;00m\u001b[38;5;124;43m/\u001b[39;49m\u001b[38;5;124;43m\"\u001b[39;49m\u001b[43m)\u001b[49m\n\u001b[0;32m   1750\u001b[0m     \u001b[38;5;28mself\u001b[39m\u001b[38;5;241m.\u001b[39m_params \u001b[38;5;241m=\u001b[39m load_punkt_params(lang_dir)\n\u001b[0;32m   1751\u001b[0m     \u001b[38;5;28mself\u001b[39m\u001b[38;5;241m.\u001b[39m_lang \u001b[38;5;241m=\u001b[39m lang\n",
      "File \u001b[1;32mc:\\Users\\marut\\AppData\\Local\\Programs\\Python\\Python312\\Lib\\site-packages\\nltk\\data.py:579\u001b[0m, in \u001b[0;36mfind\u001b[1;34m(resource_name, paths)\u001b[0m\n\u001b[0;32m    577\u001b[0m sep \u001b[38;5;241m=\u001b[39m \u001b[38;5;124m\"\u001b[39m\u001b[38;5;124m*\u001b[39m\u001b[38;5;124m\"\u001b[39m \u001b[38;5;241m*\u001b[39m \u001b[38;5;241m70\u001b[39m\n\u001b[0;32m    578\u001b[0m resource_not_found \u001b[38;5;241m=\u001b[39m \u001b[38;5;124mf\u001b[39m\u001b[38;5;124m\"\u001b[39m\u001b[38;5;130;01m\\n\u001b[39;00m\u001b[38;5;132;01m{\u001b[39;00msep\u001b[38;5;132;01m}\u001b[39;00m\u001b[38;5;130;01m\\n\u001b[39;00m\u001b[38;5;132;01m{\u001b[39;00mmsg\u001b[38;5;132;01m}\u001b[39;00m\u001b[38;5;130;01m\\n\u001b[39;00m\u001b[38;5;132;01m{\u001b[39;00msep\u001b[38;5;132;01m}\u001b[39;00m\u001b[38;5;130;01m\\n\u001b[39;00m\u001b[38;5;124m\"\u001b[39m\n\u001b[1;32m--> 579\u001b[0m \u001b[38;5;28;01mraise\u001b[39;00m \u001b[38;5;167;01mLookupError\u001b[39;00m(resource_not_found)\n",
      "\u001b[1;31mLookupError\u001b[0m: \n**********************************************************************\n  Resource \u001b[93mpunkt_tab\u001b[0m not found.\n  Please use the NLTK Downloader to obtain the resource:\n\n  \u001b[31m>>> import nltk\n  >>> nltk.download('punkt_tab')\n  \u001b[0m\n  For more information see: https://www.nltk.org/data.html\n\n  Attempted to load \u001b[93mtokenizers/punkt_tab/english/\u001b[0m\n\n  Searched in:\n    - 'C:\\\\Users\\\\marut/nltk_data'\n    - 'c:\\\\Users\\\\marut\\\\AppData\\\\Local\\\\Programs\\\\Python\\\\Python312\\\\nltk_data'\n    - 'c:\\\\Users\\\\marut\\\\AppData\\\\Local\\\\Programs\\\\Python\\\\Python312\\\\share\\\\nltk_data'\n    - 'c:\\\\Users\\\\marut\\\\AppData\\\\Local\\\\Programs\\\\Python\\\\Python312\\\\lib\\\\nltk_data'\n    - 'C:\\\\Users\\\\marut\\\\AppData\\\\Roaming\\\\nltk_data'\n    - 'C:\\\\nltk_data'\n    - 'D:\\\\nltk_data'\n    - 'E:\\\\nltk_data'\n**********************************************************************\n"
     ]
    }
   ],
   "source": [
    "#Tokenization\n",
    "from nltk.tokenize import word_tokenize  \n",
    "text_tokens = word_tokenize(no_pun_text)\n",
    "print(text_tokens[0:50])"
   ]
  }
 ],
 "metadata": {
  "kernelspec": {
   "display_name": "Python 3",
   "language": "python",
   "name": "python3"
  },
  "language_info": {
   "codemirror_mode": {
    "name": "ipython",
    "version": 3
   },
   "file_extension": ".py",
   "mimetype": "text/x-python",
   "name": "python",
   "nbconvert_exporter": "python",
   "pygments_lexer": "ipython3",
   "version": "3.12.3"
  }
 },
 "nbformat": 4,
 "nbformat_minor": 2
}
